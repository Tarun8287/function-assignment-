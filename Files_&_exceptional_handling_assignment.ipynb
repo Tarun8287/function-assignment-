{
  "nbformat": 4,
  "nbformat_minor": 0,
  "metadata": {
    "colab": {
      "provenance": [],
      "include_colab_link": true
    },
    "kernelspec": {
      "name": "python3",
      "display_name": "Python 3"
    },
    "language_info": {
      "name": "python"
    }
  },
  "cells": [
    {
      "cell_type": "markdown",
      "metadata": {
        "id": "view-in-github",
        "colab_type": "text"
      },
      "source": [
        "<a href=\"https://colab.research.google.com/github/Tarun8287/function-assignment-/blob/main/Files_%26_exceptional_handling_assignment.ipynb\" target=\"_parent\"><img src=\"https://colab.research.google.com/assets/colab-badge.svg\" alt=\"Open In Colab\"/></a>"
      ]
    },
    {
      "cell_type": "markdown",
      "source": [
        "Files, exceptional handling, logging and\n",
        "memory management Questions:-"
      ],
      "metadata": {
        "id": "GBhzQ8RQbgcB"
      }
    },
    {
      "cell_type": "markdown",
      "source": [
        "1 What is the difference between interpreted and compiled languages\n",
        "\n",
        "  -> A compiled language is converted into machine code so that the processor can execute it. An interpreted language is a language in which the implementations execute instructions directly without earlier compiling a program into machine language. The compiled programs run faster than interpreted programs."
      ],
      "metadata": {
        "id": "8Wlbq5oobi6o"
      }
    },
    {
      "cell_type": "markdown",
      "source": [
        "2  What is exception handling in Python\n",
        "\n",
        "  -> Exception handling in Python is a way to respond to errors that occur while a program is running, instead of the program crashing. It's a fundamental concept in Python programming that helps make code more robust and user-friendly."
      ],
      "metadata": {
        "id": "GcK9Vhxdbi_I"
      }
    },
    {
      "cell_type": "markdown",
      "source": [
        "3  What is the purpose of the finally block in exception handling\n",
        "\n",
        "  -> The purpose of the finally block in exception handling is to ensure that critical cleanup tasks are performed, regardless of whether an exception occurs. The finally block is part of the try-catch-finally block, which also includes the try and catch blocks."
      ],
      "metadata": {
        "id": "treKCWAObjEb"
      }
    },
    {
      "cell_type": "markdown",
      "source": [],
      "metadata": {
        "id": "WYldMQYkbjHb"
      }
    },
    {
      "cell_type": "markdown",
      "source": [
        "4  What is logging in Python\n",
        "  -> Python logging is an essential part of building software, a powerful language feature for logging different events and errors. Python provides a logging module that gives us fine-grained control over how log messages are handled."
      ],
      "metadata": {
        "id": "1gd59dDjbjKu"
      }
    },
    {
      "cell_type": "markdown",
      "source": [
        "5  What is the significance of the __del__ method in Python\n",
        "\n",
        "  -> The __del__ method in Python, also known as a destructor method, is important for managing resources when objects are destroyed."
      ],
      "metadata": {
        "id": "OgMBJ9TfbjNY"
      }
    },
    {
      "cell_type": "markdown",
      "source": [
        "6  What is the difference between import and from ... import in Python\n",
        "\n",
        "  -> The difference is that \"from <module/file> import <class/module>\" is used for importing some specific thing from that file/module. In the other hand \"Import<module> is used for importing the whole module/file."
      ],
      "metadata": {
        "id": "MzJaOh_EbjRT"
      }
    },
    {
      "cell_type": "markdown",
      "source": [
        "7   How can you handle multiple exceptions in Python\n",
        "\n",
        "  -> In Python, you can handle multiple exceptions in a single except block by specifying them as a tuple. This is useful when different exceptions require similar handling logic."
      ],
      "metadata": {
        "id": "mGvl-Zu_bjUJ"
      }
    },
    {
      "cell_type": "markdown",
      "source": [
        "8  What is the purpose of the with statement when handling files in Python\n",
        "\n",
        "  -> The with statement in Python is used to simplify the management of resources that need to be acquired and released in a specific order. It provides a way to wrap the execution of a block of code with methods defined by a context manager."
      ],
      "metadata": {
        "id": "DNURPH-VbjXB"
      }
    },
    {
      "cell_type": "markdown",
      "source": [],
      "metadata": {
        "id": "n-xn3KyRbjaV"
      }
    },
    {
      "cell_type": "markdown",
      "source": [
        "9  What is the difference between multithreading and multiprocessing\n",
        "\n",
        "  -> Multithreading refers to the ability of a processor to execute multiple threads concurrently, where each thread runs a process. Multiprocessing refers to the ability of a system to run multiple processors in parallel, where each processor can run one or more threads."
      ],
      "metadata": {
        "id": "JaxcMB8Kbjd1"
      }
    },
    {
      "cell_type": "markdown",
      "source": [
        "10   What are the advantages of using logging in a program\n",
        "\n",
        "  -> Python provides a logging module that gives us fine-grained control over how log messages are handled. It also allows us to set levels to identify critical messages and filter them out more flexibly."
      ],
      "metadata": {
        "id": "dnpzRtMBbjgZ"
      }
    },
    {
      "cell_type": "markdown",
      "source": [
        "11   What is memory management in Python\n",
        "\n",
        "  -> Memory management in Python involves a private heap containing all Python objects and data structures. The management of this private heap is ensured internally by the Python memory manager.\n",
        "\n"
      ],
      "metadata": {
        "id": "B8x8B8hubjkK"
      }
    },
    {
      "cell_type": "markdown",
      "source": [
        "12  What are the basic steps involved in exception handling in Python\n",
        "\n",
        "  -> In Python, exceptions are caught and handled using the 'try' and 'except' block. 'try' contains the code segment which is susceptible to error, while 'except' is where the program should jump in case an exception occurs. You can use multiple 'except' blocks for handling different types of exceptions."
      ],
      "metadata": {
        "id": "DM_ZNqBYbjnR"
      }
    },
    {
      "cell_type": "markdown",
      "source": [
        "13  Why is memory management important in Python\n",
        "\n",
        "  -> Memory management is important in Python because it helps ensure that code runs effectively and prevents crashes and memory leaks."
      ],
      "metadata": {
        "id": "hU9L3Wr_bjqo"
      }
    },
    {
      "cell_type": "markdown",
      "source": [
        "14  What is the role of try and except in exception handling\n",
        "\n",
        "  -> The try block lets you test a block of code for errors. The except block lets you handle the error. The finally block lets you execute code, regardless of the result of the try- and except blocks."
      ],
      "metadata": {
        "id": "-s2qjPGfbjuB"
      }
    },
    {
      "cell_type": "markdown",
      "source": [
        "15   How does Python's garbage collection system work\n",
        "\n",
        "  -> Python's garbage collection algorithm is very useful for opening up space in the memory. Garbage collection is implemented in Python in two ways: reference counting and generational. When the reference count of an object reaches 0, the reference counting garbage collection algorithm cleans up the object immediately."
      ],
      "metadata": {
        "id": "we4QR4ejbjxZ"
      }
    },
    {
      "cell_type": "markdown",
      "source": [
        "16  What is the purpose of the else block in exception handling\n",
        "\n",
        "  -> The try block lets you test a block of code for errors. The except block lets you handle the error. The else block lets you execute code when there is no error."
      ],
      "metadata": {
        "id": "wfv6s1vSbj0h"
      }
    },
    {
      "cell_type": "markdown",
      "source": [
        "17  What are the common logging levels in Python\n",
        "\n",
        "  -> There are six levels for logging in Python; each level is associated with an integer that indicates the log severity: NOTSET=0, DEBUG=10, INFO=20, WARN=30, ERROR=40, and CRITICAL=50."
      ],
      "metadata": {
        "id": "_Rj_b_J7grY4"
      }
    },
    {
      "cell_type": "markdown",
      "source": [
        "18   What is the difference between os.fork() and multiprocessing in Python\n",
        "\n",
        "  -> The fork method is only supported on POSIX-based systems like Linux and macOS (not Windows), whereas the spawn start method is supported on all platforms. A major difference between the two start methods is speed."
      ],
      "metadata": {
        "id": "d6WHjaOPgrdj"
      }
    },
    {
      "cell_type": "markdown",
      "source": [
        "19   What is the importance of closing a file in Python\n",
        "\n",
        "  -> You've learned why it's important to close files in Python. Because files are limited resources managed by the operating system, making sure files are closed after use will protect against hard-to-debug issues like running out of file handles or experiencing corrupted data."
      ],
      "metadata": {
        "id": "wZY03rwEgro8"
      }
    },
    {
      "cell_type": "markdown",
      "source": [
        "20   What is the difference between file.read() and file.readline() in Python\n",
        "\n",
        "  -> The main difference between file.read() and file.readline() in Python is that file.read() reads the entire file as a string, while file.readline() reads a single line at a time."
      ],
      "metadata": {
        "id": "3M8jss3xgruQ"
      }
    },
    {
      "cell_type": "markdown",
      "source": [
        "21  What is the logging module in Python used for\n",
        "\n",
        "  -> Logging in Python works by configuring loggers and setting log levels. Using a logging library provides structured logging and control over log output. You should prefer logging over print() because it decreases the maintainance burden and allows you to manage log levels."
      ],
      "metadata": {
        "id": "q4hhfblQgr34"
      }
    },
    {
      "cell_type": "markdown",
      "source": [
        "22  What is the os module in Python used for in file handling\n",
        "\n",
        "  -> Python has a built-in os module with methods for interacting with the operating system, like creating files and directories, management of files and directories, input, output, environment variables, process management, etc."
      ],
      "metadata": {
        "id": "BFa-F8j2gr9o"
      }
    },
    {
      "cell_type": "markdown",
      "source": [
        "23   What are the challenges associated with memory management in Python\n",
        "\n",
        "  -> Here are some challenges associated with memory management in Python:\n",
        "\n",
        "Ineffective memory management\n",
        "\n",
        "This can lead to slowness in applications and server-side components. It can also cause memory leaks, which can lead to more time spent on testing and debugging.\n",
        "\n",
        "Circular references\n",
        "\n",
        "Python's automatic garbage collector doesn't work for circular references, where objects reference each other.\n",
        "\n",
        "Holding freed memory\n",
        "\n",
        "Python may hold freed memory in the interpreter instead of freeing it up for the operating system.\n",
        "\n",
        "Cascading effect\n",
        "\n",
        "When a removed object points to another object, the reference count of the other object is also decreased. If the reference count of the other object reaches zero, it can also be removed from memory.\n",
        "\n",
        "Not de-allocating memory\n",
        "\n",
        "Forgetting to de-allocate memory can cause a program to lag and have performance issues."
      ],
      "metadata": {
        "id": "zh7s5DtqgsVq"
      }
    },
    {
      "cell_type": "markdown",
      "source": [
        "24  How do you raise an exception manually in Python\n",
        "\n",
        "  -> To manually raise an exception in Python, use the raise statement. Here is an example of how to use it: Copied! In this example, the calculate_payment function raises a ValueError exception if the payment_type is not either \"Visa\" or \"Mastercard\"."
      ],
      "metadata": {
        "id": "LaxM-A98gsaA"
      }
    },
    {
      "cell_type": "markdown",
      "source": [
        "25  Why is it important to use multithreading in certain applications\n",
        "\n",
        "  -> Improved performance: Multithreading can help increase the overall performance of an application, especially on systems with multiple processors or cores. It allows multiple tasks to run concurrently, utilizing the available CPU resources more efficiently."
      ],
      "metadata": {
        "id": "rCcODj6Rbj37"
      }
    },
    {
      "cell_type": "markdown",
      "source": [
        "### Practical Questions"
      ],
      "metadata": {
        "id": "4jEvsusojbO4"
      }
    },
    {
      "cell_type": "code",
      "source": [
        "# 1 How can you open a file for writing in Python and write a string to it\n",
        "# Open a file in write mode ('w')\n",
        "with open(\"example.txt\", \"w\") as file:\n",
        "    # Write a string to the file\n",
        "    file.write(\"Hello, world!\")\n"
      ],
      "metadata": {
        "id": "bK7zZTx1kavx"
      },
      "execution_count": null,
      "outputs": []
    },
    {
      "cell_type": "code",
      "source": [
        "# 2 Write a Python program to read the contents of a file and print each line\n",
        "# Specify the file name\n",
        "file_name = \"example.txt\"\n",
        "\n",
        "try:\n",
        "    # Open the file in read mode ('r')\n",
        "    with open(file_name, \"r\") as file:\n",
        "        # Read and print each line in the file\n",
        "        for line in file:\n",
        "            print(line, end=\"\")  # Use end=\"\" to avoid adding extra newlines\n",
        "except FileNotFoundError:\n",
        "    print(f\"The file '{file_name}' does not exist.\")\n",
        "\n"
      ],
      "metadata": {
        "colab": {
          "base_uri": "https://localhost:8080/"
        },
        "id": "VE3jlInDjjJA",
        "outputId": "aa5291f4-7ba8-4479-8fdd-5f7ba383d881"
      },
      "execution_count": null,
      "outputs": [
        {
          "output_type": "stream",
          "name": "stdout",
          "text": [
            "Hello, world!"
          ]
        }
      ]
    },
    {
      "cell_type": "code",
      "source": [
        "# 3  How would you handle a case where the file doesn't exist while trying to open it for reading\n",
        "file_name = \"non_existent_file.txt\"\n",
        "\n",
        "try:\n",
        "    # Attempt to open the file in read mode\n",
        "    with open(file_name, \"r\") as file:\n",
        "        # Read and print each line\n",
        "        for line in file:\n",
        "            print(line.strip())\n",
        "except FileNotFoundError:\n",
        "    # Handle the case where the file doesn't exist\n",
        "    print(f\"Error: The file '{file_name}' was not found.\")\n"
      ],
      "metadata": {
        "colab": {
          "base_uri": "https://localhost:8080/"
        },
        "id": "Kx8QXlu_lOoz",
        "outputId": "25cafe16-c45c-4895-a794-38784f0fe4e3"
      },
      "execution_count": null,
      "outputs": [
        {
          "output_type": "stream",
          "name": "stdout",
          "text": [
            "Error: The file 'non_existent_file.txt' was not found.\n"
          ]
        }
      ]
    },
    {
      "cell_type": "code",
      "source": [
        "# 4 Write a Python script that reads from one file and writes its content to another file\n",
        "# Specify the source and destination file names\n",
        "source_file = \"source.txt\"\n",
        "destination_file = \"destination.txt\"\n",
        "\n",
        "try:\n",
        "    # Open the source file in read mode\n",
        "    with open(source_file, \"r\") as src:\n",
        "        # Read the contents of the source file\n",
        "        content = src.read()\n",
        "\n",
        "    # Open the destination file in write mode\n",
        "    with open(destination_file, \"w\") as dest:\n",
        "        # Write the content to the destination file\n",
        "        dest.write(content)\n",
        "\n",
        "    print(f\"Contents of '{source_file}' have been successfully written to '{destination_file}'.\")\n",
        "except FileNotFoundError:\n",
        "    print(f\"Error: The file '{source_file}' was not found.\")\n",
        "except IOError as e:\n",
        "    print(f\"An I/O error occurred: {e}\")\n"
      ],
      "metadata": {
        "colab": {
          "base_uri": "https://localhost:8080/"
        },
        "id": "jlBvvmvRlrDa",
        "outputId": "8a8029d7-5bb1-4d5f-f795-2611643c223e"
      },
      "execution_count": null,
      "outputs": [
        {
          "output_type": "stream",
          "name": "stdout",
          "text": [
            "Error: The file 'source.txt' was not found.\n"
          ]
        }
      ]
    },
    {
      "cell_type": "code",
      "source": [
        "# 5  How would you catch and handle division by zero error in Python\n",
        "try:\n",
        "    # Attempt a division\n",
        "    numerator = 10\n",
        "    denominator = 0\n",
        "    result = numerator / denominator\n",
        "    print(f\"The result is: {result}\")\n",
        "except ZeroDivisionError:\n",
        "    # Handle the division by zero error\n",
        "    print(\"Error: Division by zero is not allowed.\")\n"
      ],
      "metadata": {
        "colab": {
          "base_uri": "https://localhost:8080/"
        },
        "id": "4CQ9TRlbmMyV",
        "outputId": "4e11c335-8af1-403f-a409-b7fa64452244"
      },
      "execution_count": null,
      "outputs": [
        {
          "output_type": "stream",
          "name": "stdout",
          "text": [
            "Error: Division by zero is not allowed.\n"
          ]
        }
      ]
    },
    {
      "cell_type": "code",
      "source": [
        "# 6 Write a Python program that logs an error message to a log file when a division by zero exception occurs\n",
        "import logging\n",
        "\n",
        "# Configure logging\n",
        "logging.basicConfig(\n",
        "    filename=\"error.log\",  # Log file name\n",
        "    level=logging.ERROR,   # Log only error messages\n",
        "    format=\"%(asctime)s - %(levelname)s - %(message)s\"  # Log message format\n",
        ")\n",
        "\n",
        "# Function to perform division and handle division by zero\n",
        "def divide_numbers(numerator, denominator):\n",
        "    try:\n",
        "        result = numerator / denominator\n",
        "        print(f\"The result is: {result}\")\n",
        "    except ZeroDivisionError:\n",
        "        error_message = f\"Division by zero error: numerator={numerator}, denominator={denominator}\"\n",
        "        logging.error(error_message)\n",
        "        print(\"Error: Cannot divide by zero. Check the log file for details.\")\n",
        "\n",
        "# Example usage\n",
        "divide_numbers(10, 0)\n"
      ],
      "metadata": {
        "colab": {
          "base_uri": "https://localhost:8080/"
        },
        "id": "wm8kVJyqmshF",
        "outputId": "23ba65da-1992-4a6c-eb67-d815bdd24d27"
      },
      "execution_count": null,
      "outputs": [
        {
          "output_type": "stream",
          "name": "stderr",
          "text": [
            "ERROR:root:Division by zero error: numerator=10, denominator=0\n"
          ]
        },
        {
          "output_type": "stream",
          "name": "stdout",
          "text": [
            "Error: Cannot divide by zero. Check the log file for details.\n"
          ]
        }
      ]
    },
    {
      "cell_type": "code",
      "source": [
        "# 7  How do you log information at different levels (INFO, ERROR, WARNING) in Python using the logging module\n",
        "import logging\n",
        "\n",
        "# Configure logging\n",
        "logging.basicConfig(\n",
        "    filename=\"app.log\",      # Log file name\n",
        "    level=logging.DEBUG,     # Set the logging level to capture all levels\n",
        "    format=\"%(asctime)s - %(levelname)s - %(message)s\"  # Log format\n",
        ")\n",
        "\n",
        "# Log messages at different levels\n",
        "logging.debug(\"This is a DEBUG message, used for detailed debugging.\")\n",
        "logging.info(\"This is an INFO message, used for general information.\")\n",
        "logging.warning(\"This is a WARNING message, used for potential issues.\")\n",
        "logging.error(\"This is an ERROR message, used for serious problems.\")\n",
        "logging.critical(\"This is a CRITICAL message, used for very severe errors.\")\n"
      ],
      "metadata": {
        "colab": {
          "base_uri": "https://localhost:8080/"
        },
        "id": "nKA4ETQynCoV",
        "outputId": "ed60814c-99c0-482a-a393-948288c9cf83"
      },
      "execution_count": null,
      "outputs": [
        {
          "output_type": "stream",
          "name": "stderr",
          "text": [
            "WARNING:root:This is a WARNING message, used for potential issues.\n",
            "ERROR:root:This is an ERROR message, used for serious problems.\n",
            "CRITICAL:root:This is a CRITICAL message, used for very severe errors.\n"
          ]
        }
      ]
    },
    {
      "cell_type": "code",
      "source": [
        "# 8 Write a program to handle a file opening error using exception handling\n",
        "try:\n",
        "    # Try to open a file in read mode\n",
        "    file_name = \"example.txt\"\n",
        "    with open(file_name, \"r\") as file:\n",
        "        # Read and print the contents of the file\n",
        "        content = file.read()\n",
        "        print(content)\n",
        "except FileNotFoundError:\n",
        "    # This block handles the case where the file does not exist\n",
        "    print(f\"Error: The file '{file_name}' was not found.\")\n",
        "except PermissionError:\n",
        "    # This block handles the case where there are permission issues\n",
        "    print(f\"Error: You do not have permission to open the file '{file_name}'.\")\n",
        "except Exception as e:\n",
        "    # This block handles any other unexpected exceptions\n",
        "    print(f\"An unexpected error occurred: {e}\")\n"
      ],
      "metadata": {
        "colab": {
          "base_uri": "https://localhost:8080/"
        },
        "id": "_4VqPKKunhzp",
        "outputId": "4771af18-d273-4d75-fb98-d809bcb634af"
      },
      "execution_count": null,
      "outputs": [
        {
          "output_type": "stream",
          "name": "stdout",
          "text": [
            "Hello, world!\n"
          ]
        }
      ]
    },
    {
      "cell_type": "code",
      "source": [
        "# 9  How can you read a file line by line and store its content in a list in Python\n",
        "# Open the file in read mode\n",
        "with open(\"example.txt\", \"r\") as file:\n",
        "    # Read all lines and store them in a list\n",
        "    lines = file.readlines()\n",
        "\n",
        "# Print the list containing the lines\n",
        "print(lines)\n"
      ],
      "metadata": {
        "colab": {
          "base_uri": "https://localhost:8080/"
        },
        "id": "obQr4fpkn6W7",
        "outputId": "6b30a876-4f51-42ad-e395-c1a2369cb14f"
      },
      "execution_count": null,
      "outputs": [
        {
          "output_type": "stream",
          "name": "stdout",
          "text": [
            "['Hello, world!']\n"
          ]
        }
      ]
    },
    {
      "cell_type": "code",
      "source": [
        "# 10  How can you append data to an existing file in Python\n",
        "# Data to be appended\n",
        "data = \"This is the new line of text.\\n\"\n",
        "\n",
        "# Open the file in append mode ('a')\n",
        "with open(\"example.txt\", \"a\") as file:\n",
        "    # Append the data to the file\n",
        "    file.write(data)\n",
        "\n",
        "print(\"Data has been appended to the file.\")\n",
        "\n",
        "\n"
      ],
      "metadata": {
        "colab": {
          "base_uri": "https://localhost:8080/"
        },
        "id": "WVuUy9Z4od_-",
        "outputId": "4ceb1946-7df4-4b28-a2d4-864034794531"
      },
      "execution_count": null,
      "outputs": [
        {
          "output_type": "stream",
          "name": "stdout",
          "text": [
            "Data has been appended to the file.\n"
          ]
        }
      ]
    },
    {
      "cell_type": "code",
      "source": [
        "# 11 Write a Python program that uses a try-except block to handle an error when attempting to access a\n",
        "# dictionary key that doesn't exist\n",
        "# Sample dictionary\n",
        "my_dict = {\"name\": \"Alice\", \"age\": 25}\n",
        "\n",
        "# Key to access\n",
        "key = \"address\"\n",
        "\n",
        "try:\n",
        "    # Attempt to access the dictionary key\n",
        "    value = my_dict[key]\n",
        "    print(f\"The value for '{key}' is: {value}\")\n",
        "except KeyError:\n",
        "    # Handle the case where the key does not exist\n",
        "    print(f\"Error: The key '{key}' does not exist in the dictionary.\")\n"
      ],
      "metadata": {
        "colab": {
          "base_uri": "https://localhost:8080/"
        },
        "id": "NvdjTR1mpCcN",
        "outputId": "f5bfdbc2-f321-4c1d-9643-e908ad39e2b2"
      },
      "execution_count": null,
      "outputs": [
        {
          "output_type": "stream",
          "name": "stdout",
          "text": [
            "Error: The key 'address' does not exist in the dictionary.\n"
          ]
        }
      ]
    },
    {
      "cell_type": "code",
      "source": [
        "# 12  Write a program that demonstrates using multiple except blocks to handle different types of exceptions\n",
        "# Function to demonstrate multiple except blocks\n",
        "def handle_exceptions():\n",
        "    try:\n",
        "        # Prompt user for input\n",
        "        num1 = int(input(\"Enter a number: \"))\n",
        "        num2 = int(input(\"Enter another number: \"))\n",
        "\n",
        "        # Attempt division\n",
        "        result = num1 / num2\n",
        "        print(f\"The result of {num1} divided by {num2} is: {result}\")\n",
        "\n",
        "        # Attempt to access an element in a list\n",
        "        my_list = [1, 2, 3]\n",
        "        print(my_list[5])  # This will raise an IndexError\n",
        "\n",
        "    except ZeroDivisionError:\n",
        "        # Handle division by zero\n",
        "        print(\"Error: Cannot divide by zero.\")\n",
        "\n",
        "    except ValueError:\n",
        "        # Handle invalid input (e.g., non-integer input)\n",
        "        print(\"Error: Invalid input! Please enter a valid number.\")\n",
        "\n",
        "    except IndexError:\n",
        "        # Handle list index out of range error\n",
        "        print(\"Error: Index out of range in the list.\")\n",
        "\n",
        "    except Exception as e:\n",
        "        # Handle any other general exceptions\n",
        "        print(f\"An unexpected error occurred: {e}\")\n",
        "\n",
        "# Call the function\n",
        "handle_exceptions()\n",
        "\n",
        "\n",
        "\n",
        "\n"
      ],
      "metadata": {
        "colab": {
          "base_uri": "https://localhost:8080/"
        },
        "id": "sPB9cNfvpY9t",
        "outputId": "441b356e-1d48-4cfb-eb9c-c8ede964fab5"
      },
      "execution_count": null,
      "outputs": [
        {
          "output_type": "stream",
          "name": "stdout",
          "text": [
            "Enter a number: 10\n",
            "Enter another number: 2\n",
            "The result of 10 divided by 2 is: 5.0\n",
            "Error: Index out of range in the list.\n"
          ]
        }
      ]
    },
    {
      "cell_type": "code",
      "source": [
        "# 13  How would you check if a file exists before attempting to read it in Python\n",
        "import os\n",
        "\n",
        "file_name = \"example.txt\"\n",
        "\n",
        "if os.path.exists(file_name):\n",
        "    with open(file_name, \"r\") as file:\n",
        "        content = file.read()\n",
        "        print(content)\n",
        "else:\n",
        "    print(f\"The file '{file_name}' does not exist.\")\n"
      ],
      "metadata": {
        "colab": {
          "base_uri": "https://localhost:8080/"
        },
        "id": "8_fS9fJdqLt1",
        "outputId": "08a90100-8e4e-4f08-aef4-81b7c4e0b222"
      },
      "execution_count": null,
      "outputs": [
        {
          "output_type": "stream",
          "name": "stdout",
          "text": [
            "Hello, world!This is the new line of text.\n",
            "\n"
          ]
        }
      ]
    },
    {
      "cell_type": "code",
      "source": [
        "# 14 Write a program that uses the logging module to log both informational and error messages\n",
        "import logging\n",
        "\n",
        "# Configure logging to log messages to a file and display them in the console\n",
        "logging.basicConfig(\n",
        "    level=logging.DEBUG,  # Set logging level to DEBUG to capture all levels\n",
        "    format=\"%(asctime)s - %(levelname)s - %(message)s\",  # Log format\n",
        "    handlers=[\n",
        "        logging.FileHandler(\"app.log\"),  # Log to a file\n",
        "        logging.StreamHandler()          # Log to the console\n",
        "    ]\n",
        ")\n",
        "\n",
        "# Informational message\n",
        "logging.info(\"This is an informational message.\")\n",
        "\n",
        "# Error message\n",
        "try:\n",
        "    result = 10 / 0  # Division by zero will raise an exception\n",
        "except ZeroDivisionError as e:\n",
        "    logging.error(\"An error occurred: %s\", e)\n",
        "\n",
        "# Another informational message\n",
        "logging.info(\"The program has completed execution.\")\n",
        "\n"
      ],
      "metadata": {
        "colab": {
          "base_uri": "https://localhost:8080/"
        },
        "id": "NHJ7ygkEqsbT",
        "outputId": "c084f459-2d07-4e34-dc74-058ec497ee72"
      },
      "execution_count": null,
      "outputs": [
        {
          "output_type": "stream",
          "name": "stderr",
          "text": [
            "ERROR:root:An error occurred: division by zero\n"
          ]
        }
      ]
    },
    {
      "cell_type": "code",
      "source": [
        "# 15 Write a Python program that prints the content of a file and handles the case when the file is empty\n",
        "# Function to read and print file content\n",
        "def print_file_content(file_name):\n",
        "    try:\n",
        "        with open(file_name, 'r') as file:\n",
        "            content = file.read()\n",
        "            if content:  # Check if the content is not empty\n",
        "                print(content)\n",
        "            else:\n",
        "                print(\"The file is empty.\")\n",
        "    except FileNotFoundError:\n",
        "        print(f\"Error: The file '{file_name}' does not exist.\")\n",
        "    except Exception as e:\n",
        "        print(f\"An unexpected error occurred: {e}\")\n",
        "\n",
        "# Example usage\n",
        "file_name = \"example.txt\"\n",
        "print_file_content(file_name)\n"
      ],
      "metadata": {
        "colab": {
          "base_uri": "https://localhost:8080/"
        },
        "id": "aD9VoaWXqv6m",
        "outputId": "7d6ffb37-a929-497b-f5e9-2801de4bfc0a"
      },
      "execution_count": null,
      "outputs": [
        {
          "output_type": "stream",
          "name": "stdout",
          "text": [
            "Hello, world!This is the new line of text.\n",
            "\n"
          ]
        }
      ]
    },
    {
      "cell_type": "code",
      "source": [
        "# 16  Demonstrate how to use memory profiling to check the memory usage of a small program\n",
        "# Importing memory profiler\n",
        "python -m memory_profiler your_script.py\n"
      ],
      "metadata": {
        "id": "5cDC8oliqwD-"
      },
      "execution_count": null,
      "outputs": []
    },
    {
      "cell_type": "code",
      "source": [
        "# 17  Write a Python program to create and write a list of numbers to a file, one number per line\n",
        "# List of numbers to write to the file\n",
        "numbers = [1, 2, 3, 4, 5, 6, 7, 8, 9, 10]\n",
        "\n",
        "# Open the file in write mode\n",
        "with open(\"numbers.txt\", \"w\") as file:\n",
        "    # Write each number to the file, one per line\n",
        "    for number in numbers:\n",
        "        file.write(f\"{number}\\n\")\n",
        "\n",
        "print(\"The numbers have been written to 'numbers.txt'.\")\n"
      ],
      "metadata": {
        "colab": {
          "base_uri": "https://localhost:8080/"
        },
        "id": "aLNAtNn0qwOc",
        "outputId": "9e5df08f-c3b3-41a3-dff9-08eb3bb81f51"
      },
      "execution_count": null,
      "outputs": [
        {
          "output_type": "stream",
          "name": "stdout",
          "text": [
            "The numbers have been written to 'numbers.txt'.\n"
          ]
        }
      ]
    },
    {
      "cell_type": "code",
      "source": [
        "# 18 How would you implement a basic logging setup that logs to a file with rotation after 1MB\n",
        "import logging\n",
        "from logging.handlers import RotatingFileHandler\n",
        "\n",
        "# Define the log file name\n",
        "log_filename = \"app.log\"\n",
        "\n",
        "# Create a RotatingFileHandler that rotates the log file after it reaches 1MB\n",
        "handler = RotatingFileHandler(\n",
        "    log_filename, maxBytes=1 * 1024 * 1024, backupCount=3\n",
        ")\n",
        "handler.setLevel(logging.INFO)  # Log at INFO level\n",
        "\n",
        "# Create a formatter and set it for the handler\n",
        "formatter = logging.Formatter('%(asctime)s - %(levelname)s - %(message)s')\n",
        "handler.setFormatter(formatter)\n",
        "\n",
        "# Set up logging to use the handler\n",
        "logger = logging.getLogger()\n",
        "logger.setLevel(logging.INFO)  # Global logging level\n",
        "logger.addHandler(handler)\n",
        "\n",
        "# Example log messages\n",
        "logger.info(\"This is an info message.\")\n",
        "logger.error(\"This is an error message.\")\n",
        "logger.warning(\"This is a warning message.\")\n",
        "\n",
        "print(\"Logging setup complete, logs are being written to 'app.log' with rotation.\")\n"
      ],
      "metadata": {
        "colab": {
          "base_uri": "https://localhost:8080/"
        },
        "id": "m0CQThCuqwXF",
        "outputId": "554e9466-608e-4b24-c2c4-1148a95c30f4"
      },
      "execution_count": null,
      "outputs": [
        {
          "output_type": "stream",
          "name": "stderr",
          "text": [
            "INFO:root:This is an info message.\n",
            "ERROR:root:This is an error message.\n",
            "WARNING:root:This is a warning message.\n"
          ]
        },
        {
          "output_type": "stream",
          "name": "stdout",
          "text": [
            "Logging setup complete, logs are being written to 'app.log' with rotation.\n"
          ]
        }
      ]
    },
    {
      "cell_type": "code",
      "source": [
        "# 19 Write a program that handles both IndexError and KeyError using a try-except block\n",
        "# Sample data\n",
        "my_list = [1, 2, 3]\n",
        "my_dict = {\"name\": \"Alice\", \"age\": 25}\n",
        "\n",
        "# Function to demonstrate handling both IndexError and KeyError\n",
        "def handle_errors():\n",
        "    try:\n",
        "        # Attempting to access an element in the list by an invalid index\n",
        "        print(\"Accessing list element at index 5:\", my_list[5])\n",
        "\n",
        "        # Attempting to access a dictionary key that doesn't exist\n",
        "        print(\"Accessing value for key 'address':\", my_dict[\"address\"])\n",
        "\n",
        "    except IndexError as index_error:\n",
        "        # Handle IndexError\n",
        "        print(f\"IndexError: {index_error} - List index is out of range.\")\n",
        "\n",
        "    except KeyError as key_error:\n",
        "        # Handle KeyError\n",
        "        print(f\"KeyError: {key_error} - Key does not exist in the dictionary.\")\n",
        "\n",
        "# Call the function\n",
        "handle_errors()\n"
      ],
      "metadata": {
        "colab": {
          "base_uri": "https://localhost:8080/"
        },
        "id": "rr76kk22qwgt",
        "outputId": "831fa988-a7f2-4989-e20c-d24f02734845"
      },
      "execution_count": null,
      "outputs": [
        {
          "output_type": "stream",
          "name": "stdout",
          "text": [
            "IndexError: list index out of range - List index is out of range.\n"
          ]
        }
      ]
    },
    {
      "cell_type": "code",
      "source": [
        "# 20 How would you open a file and read its contents using a context manager in Python\n",
        "# Open the file using the context manager (with statement) to ensure it is closed automatically\n",
        "with open(\"example.txt\", \"r\") as file:\n",
        "    content = file.read()  # Read the entire content of the file\n",
        "    print(content)         # Print the content of the file\n"
      ],
      "metadata": {
        "colab": {
          "base_uri": "https://localhost:8080/"
        },
        "id": "uRg427TgtF5A",
        "outputId": "75449b17-2cba-4068-b8e3-ed2301a4b7d6"
      },
      "execution_count": null,
      "outputs": [
        {
          "output_type": "stream",
          "name": "stdout",
          "text": [
            "Hello, world!This is the new line of text.\n",
            "\n"
          ]
        }
      ]
    },
    {
      "cell_type": "code",
      "source": [
        "# 21 Write a Python program that reads a file and prints the number of occurrences of a specific word\n",
        "# Function to count the occurrences of a word in a file\n",
        "def count_word_occurrences(file_name, target_word):\n",
        "    try:\n",
        "        with open(file_name, 'r') as file:\n",
        "            content = file.read()  # Read the entire file content\n",
        "            word_count = content.lower().split().count(target_word.lower())  # Convert to lowercase and count occurrences\n",
        "            print(f\"The word '{target_word}' occurs {word_count} times in the file.\")\n",
        "    except FileNotFoundError:\n",
        "        print(f\"Error: The file '{file_name}' does not exist.\")\n",
        "    except Exception as e:\n",
        "        print(f\"An unexpected error occurred: {e}\")\n",
        "\n",
        "# Example usage\n",
        "file_name = \"example.txt\"  # The file to read from\n",
        "target_word = \"python\"     # The word to search for\n",
        "count_word_occurrences(file_name, target_word)\n"
      ],
      "metadata": {
        "colab": {
          "base_uri": "https://localhost:8080/"
        },
        "id": "Ns_eolu5tGEO",
        "outputId": "eabd589e-0e12-4252-c8d6-d34247dc7995"
      },
      "execution_count": null,
      "outputs": [
        {
          "output_type": "stream",
          "name": "stdout",
          "text": [
            "The word 'python' occurs 0 times in the file.\n"
          ]
        }
      ]
    },
    {
      "cell_type": "code",
      "source": [
        "# 22  How can you check if a file is empty before attempting to read its contents\n",
        "import os\n",
        "\n",
        "# Function to check if the file is empty\n",
        "def is_file_empty(file_name):\n",
        "    # Check if the file exists and its size\n",
        "    if os.path.exists(file_name) and os.path.getsize(file_name) == 0:\n",
        "        return True\n",
        "    return False\n",
        "\n",
        "# Function to read file content if it's not empty\n",
        "def read_file(file_name):\n",
        "    if is_file_empty(file_name):\n",
        "        print(f\"The file '{file_name}' is empty.\")\n",
        "    else:\n",
        "        try:\n",
        "            with open(file_name, 'r') as file:\n",
        "                content = file.read()\n",
        "                print(f\"File content:\\n{content}\")\n",
        "        except FileNotFoundError:\n",
        "            print(f\"Error: The file '{file_name}' does not exist.\")\n",
        "        except Exception as e:\n",
        "            print(f\"An unexpected error occurred: {e}\")\n",
        "\n",
        "# Example usage\n",
        "file_name = \"example.txt\"  # Replace with your file name\n",
        "read_file(file_name)\n"
      ],
      "metadata": {
        "colab": {
          "base_uri": "https://localhost:8080/"
        },
        "id": "1Mabu8GRtoso",
        "outputId": "7f3c5598-7129-4cf5-c350-9cb7ef9dbc96"
      },
      "execution_count": null,
      "outputs": [
        {
          "output_type": "stream",
          "name": "stdout",
          "text": [
            "File content:\n",
            "Hello, world!This is the new line of text.\n",
            "\n"
          ]
        }
      ]
    },
    {
      "cell_type": "code",
      "source": [
        "# 23 Write a Python program that writes to a log file when an error occurs during file handling\n",
        "import logging\n",
        "\n",
        "# Setting up the logging configuration\n",
        "logging.basicConfig(\n",
        "    filename='file_handling_errors.log',  # Log file name\n",
        "    level=logging.ERROR,                  # Log only errors and above\n",
        "    format='%(asctime)s - %(levelname)s - %(message)s'  # Log format\n",
        ")\n",
        "\n",
        "# Function to handle file operations and log errors\n",
        "def handle_file_operations():\n",
        "    try:\n",
        "        # Trying to open a file for writing\n",
        "        with open(\"example.txt\", \"w\") as file:\n",
        "            file.write(\"This is a test message.\\n\")\n",
        "            print(\"File written successfully.\")\n",
        "\n",
        "        # Trying to read the file\n",
        "        with open(\"example.txt\", \"r\") as file:\n",
        "            content = file.read()\n",
        "            print(\"File content read successfully.\")\n",
        "            print(content)\n",
        "\n",
        "        # Trying to open a non-existent file (to trigger an error)\n",
        "        with open(\"non_existent_file.txt\", \"r\") as file:\n",
        "            content = file.read()\n",
        "            print(content)\n",
        "\n",
        "    except FileNotFoundError as e:\n",
        "        # Log the error if the file is not found\n",
        "        logging.error(f\"FileNotFoundError: {e}\")\n",
        "        print(f\"Error: {e}\")\n",
        "\n",
        "    except IOError as e:\n",
        "        # Log the error if there's an I/O issue\n",
        "        logging.error(f\"IOError: {e}\")\n",
        "        print(f\"Error: {e}\")\n",
        "\n",
        "    except Exception as e:\n",
        "        # Log any other unexpected errors\n",
        "        logging.error(f\"Unexpected error: {e}\")\n",
        "        print(f\"An unexpected error occurred: {e}\")\n",
        "\n",
        "# Call the function\n",
        "handle_file_operations()\n"
      ],
      "metadata": {
        "colab": {
          "base_uri": "https://localhost:8080/"
        },
        "id": "nzRnYrIEtGom",
        "outputId": "d6240151-afad-45de-bebe-0dbfb2b5f065"
      },
      "execution_count": null,
      "outputs": [
        {
          "output_type": "stream",
          "name": "stderr",
          "text": [
            "ERROR:root:FileNotFoundError: [Errno 2] No such file or directory: 'non_existent_file.txt'\n"
          ]
        },
        {
          "output_type": "stream",
          "name": "stdout",
          "text": [
            "File written successfully.\n",
            "File content read successfully.\n",
            "This is a test message.\n",
            "\n",
            "Error: [Errno 2] No such file or directory: 'non_existent_file.txt'\n"
          ]
        }
      ]
    }
  ]
}